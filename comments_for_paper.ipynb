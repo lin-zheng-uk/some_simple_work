{
 "cells": [
  {
   "cell_type": "markdown",
   "metadata": {},
   "source": [
    "# Validation RMSE\n",
    "\n",
    "An experiment on difference between \"Exponentiated Log-RMSE\" and \"original scale\"\n",
    "\n",
    "Validating testset RMSE (kWh) results shown on Table 2 \n",
    "\n",
    "Paper: https://link.springer.com/article/10.1007/s12053-024-10264-3\n"
   ]
  },
  {
   "cell_type": "markdown",
   "metadata": {},
   "source": [
    "\n",
    "## Synthetic Dataset For UK Household Gas Consumption\n",
    "\n",
    "- generate a random dataset with 1000 rows and 6 columns to represent the mean daily gas consumption of 1000 households in the UK\n",
    "- the target is the mean daily gas consumption of each household, the 5 features are named as 'feature_1', 'feature_2', ..., 'feature_5'\n",
    "- the mean daily gas consumption (unit kWh) of each household need to reflect the actually gas consumption of households in the UK (average value is 35kWh)\n",
    "- the distubution of the mean daily gas consumption of each household is not normal, and slightly skewed to the left. similart to the paper."
   ]
  },
  {
   "cell_type": "code",
   "execution_count": 9,
   "metadata": {},
   "outputs": [],
   "source": [
    "import numpy as np\n",
    "import pandas as pd\n",
    "import matplotlib.pyplot as plt\n",
    "import seaborn as sns"
   ]
  },
  {
   "cell_type": "code",
   "execution_count": 2,
   "metadata": {},
   "outputs": [
    {
     "data": {
      "text/html": [
       "<div>\n",
       "<style scoped>\n",
       "    .dataframe tbody tr th:only-of-type {\n",
       "        vertical-align: middle;\n",
       "    }\n",
       "\n",
       "    .dataframe tbody tr th {\n",
       "        vertical-align: top;\n",
       "    }\n",
       "\n",
       "    .dataframe thead th {\n",
       "        text-align: right;\n",
       "    }\n",
       "</style>\n",
       "<table border=\"1\" class=\"dataframe\">\n",
       "  <thead>\n",
       "    <tr style=\"text-align: right;\">\n",
       "      <th></th>\n",
       "      <th>feature_1</th>\n",
       "      <th>feature_2</th>\n",
       "      <th>feature_3</th>\n",
       "      <th>feature_4</th>\n",
       "      <th>feature_5</th>\n",
       "      <th>mean_daily_gas_consumption_kWh</th>\n",
       "    </tr>\n",
       "  </thead>\n",
       "  <tbody>\n",
       "    <tr>\n",
       "      <th>0</th>\n",
       "      <td>0.607090</td>\n",
       "      <td>0.792758</td>\n",
       "      <td>0.659690</td>\n",
       "      <td>0.971845</td>\n",
       "      <td>0.842538</td>\n",
       "      <td>40.768243</td>\n",
       "    </tr>\n",
       "    <tr>\n",
       "      <th>1</th>\n",
       "      <td>0.631308</td>\n",
       "      <td>0.069046</td>\n",
       "      <td>0.442033</td>\n",
       "      <td>0.512615</td>\n",
       "      <td>0.500877</td>\n",
       "      <td>30.620161</td>\n",
       "    </tr>\n",
       "    <tr>\n",
       "      <th>2</th>\n",
       "      <td>0.591697</td>\n",
       "      <td>0.474255</td>\n",
       "      <td>0.648233</td>\n",
       "      <td>0.290877</td>\n",
       "      <td>0.981421</td>\n",
       "      <td>29.252254</td>\n",
       "    </tr>\n",
       "    <tr>\n",
       "      <th>3</th>\n",
       "      <td>0.702634</td>\n",
       "      <td>0.560678</td>\n",
       "      <td>0.061446</td>\n",
       "      <td>0.469407</td>\n",
       "      <td>0.097377</td>\n",
       "      <td>29.252484</td>\n",
       "    </tr>\n",
       "    <tr>\n",
       "      <th>4</th>\n",
       "      <td>0.237433</td>\n",
       "      <td>0.628426</td>\n",
       "      <td>0.813723</td>\n",
       "      <td>0.857858</td>\n",
       "      <td>0.303066</td>\n",
       "      <td>62.838889</td>\n",
       "    </tr>\n",
       "  </tbody>\n",
       "</table>\n",
       "</div>"
      ],
      "text/plain": [
       "   feature_1  feature_2  feature_3  feature_4  feature_5  \\\n",
       "0   0.607090   0.792758   0.659690   0.971845   0.842538   \n",
       "1   0.631308   0.069046   0.442033   0.512615   0.500877   \n",
       "2   0.591697   0.474255   0.648233   0.290877   0.981421   \n",
       "3   0.702634   0.560678   0.061446   0.469407   0.097377   \n",
       "4   0.237433   0.628426   0.813723   0.857858   0.303066   \n",
       "\n",
       "   mean_daily_gas_consumption_kWh  \n",
       "0                       40.768243  \n",
       "1                       30.620161  \n",
       "2                       29.252254  \n",
       "3                       29.252484  \n",
       "4                       62.838889  "
      ]
     },
     "execution_count": 2,
     "metadata": {},
     "output_type": "execute_result"
    }
   ],
   "source": [
    "# generate synthetic data\n",
    "np.random.seed(42)\n",
    "num_households = 1000\n",
    "mean_gas_consumption = np.random.gamma(shape=5, scale=7, size=num_households)  # Gamma distribution produces a skewed distribution\n",
    "\n",
    "# Generate 5 random features for the households\n",
    "features = {\n",
    "    f'feature_{i}': np.random.uniform(0, 1, size=num_households) for i in range(1, 6)\n",
    "}\n",
    "data = pd.DataFrame(features)\n",
    "data['mean_daily_gas_consumption_kWh'] = mean_gas_consumption\n",
    "data.head()"
   ]
  },
  {
   "cell_type": "code",
   "execution_count": 3,
   "metadata": {},
   "outputs": [
    {
     "data": {
      "text/plain": [
       "<Axes: ylabel='Frequency'>"
      ]
     },
     "execution_count": 3,
     "metadata": {},
     "output_type": "execute_result"
    },
    {
     "data": {
      "image/png": "[encoded data removed]",
      "text/plain": [
       "<Figure size 500x300 with 1 Axes>"
      ]
     },
     "metadata": {},
     "output_type": "display_data"
    }
   ],
   "source": [
    "# distribution of the target variable by plt\n",
    "data['mean_daily_gas_consumption_kWh'].plot(kind='hist', bins=30, edgecolor='black', color='skyblue', figsize=(5, 3))"
   ]
  },
  {
   "cell_type": "code",
   "execution_count": 4,
   "metadata": {},
   "outputs": [
    {
     "data": {
      "text/plain": [
       "<Axes: ylabel='Frequency'>"
      ]
     },
     "execution_count": 4,
     "metadata": {},
     "output_type": "execute_result"
    },
    {
     "data": {
      "image/png": "[encoded data removed]",
      "text/plain": [
       "<Figure size 500x300 with 1 Axes>"
      ]
     },
     "metadata": {},
     "output_type": "display_data"
    }
   ],
   "source": [
    "# create a column for log-transformed gas consumption (natural logarithm (base e). and check the distribution\n",
    "data['log_mean_daily_gas_consumption_kWh'] = np.log1p(data['mean_daily_gas_consumption_kWh'])\n",
    "# distribution of the target variable by plt\n",
    "data['log_mean_daily_gas_consumption_kWh'].plot(kind='hist', bins=30, edgecolor='black', color='skyblue', figsize=(5, 3))"
   ]
  },
  {
   "cell_type": "markdown",
   "metadata": {},
   "source": [
    "## LASSO Model training"
   ]
  },
  {
   "cell_type": "code",
   "execution_count": 5,
   "metadata": {},
   "outputs": [
    {
     "name": "stdout",
     "output_type": "stream",
     "text": [
      "Train RMSE: 0.4420\n",
      "Test RMSE: 0.4115\n"
     ]
    }
   ],
   "source": [
    "# split the data into training and test sets\n",
    "from sklearn.model_selection import train_test_split\n",
    "\n",
    "X = data.drop(['mean_daily_gas_consumption_kWh', 'log_mean_daily_gas_consumption_kWh'], axis=1)\n",
    "y = data['log_mean_daily_gas_consumption_kWh']\n",
    "\n",
    "X_train, X_test, y_train, y_test = train_test_split(X, y, test_size=0.2, random_state=42)\n",
    "\n",
    "# train a Lasso regression model with optimal alpha\n",
    "from sklearn.linear_model import Lasso\n",
    "from sklearn.metrics import mean_squared_error\n",
    "\n",
    "# Train a Lasso regression model\n",
    "model = Lasso(alpha=0.001, random_state=42)\n",
    "model.fit(X_train, y_train)\n",
    "\n",
    "# Make predictions\n",
    "train_preds = model.predict(X_train)\n",
    "test_preds = model.predict(X_test)\n",
    "\n",
    "# Evaluate the model\n",
    "train_rmse = mean_squared_error(y_train, train_preds, squared=False)\n",
    "test_rmse = mean_squared_error(y_test, test_preds, squared=False)\n",
    "\n",
    "print(f'Train RMSE: {train_rmse:.4f}')\n",
    "print(f'Test RMSE: {test_rmse:.4f}')"
   ]
  },
  {
   "cell_type": "markdown",
   "metadata": {},
   "source": [
    "### Calculate RMSE \"error\" relative to the mean consumption\n",
    "\n",
    "- it is used to compare models or datasets with different average consumption levels.\n",
    "\n",
    "- If two datasets have different average gas consumption levels, this metric helps normalize the error, enabling a fair comparison."
   ]
  },
  {
   "cell_type": "code",
   "execution_count": 6,
   "metadata": {},
   "outputs": [
    {
     "name": "stdout",
     "output_type": "stream",
     "text": [
      "Test RMSE by method 1: 1.5091\n",
      "Error (method 1): 0.04 %\n"
     ]
    }
   ],
   "source": [
    "# calculate test RMSE by using Exponentiated Log-RMSE , e^(log-RMSE), same to method used in paper by inference\n",
    "test_rmse_method_1 = np.exp(test_rmse) \n",
    "print(f'Test RMSE by method 1: {test_rmse_method_1:.4f}')\n",
    "\n",
    "# calculate error by using Exponentiated Log-RMSE , e^(log-RMSE) (35 kWh is the average gas consumption)\n",
    "\n",
    "average_gas_consumption = 35\n",
    "error = (test_rmse_method_1 / average_gas_consumption)\n",
    "print(f'Error (method 1): {error:.2f} %')"
   ]
  },
  {
   "cell_type": "code",
   "execution_count": 7,
   "metadata": {},
   "outputs": [
    {
     "name": "stdout",
     "output_type": "stream",
     "text": [
      "Test RMSE by method2 : 13.3751\n",
      "Error (method 2): 0.38 %\n"
     ]
    }
   ],
   "source": [
    "# calculate test RMSE by Back-transforming the predictions (not RMSE itself) to the original scale.and then calculate RMSE, and the error\n",
    "test_preds_original_scale = np.expm1(test_preds)\n",
    "test_rmse_method_2 = mean_squared_error(np.expm1(y_test), test_preds_original_scale, squared=False)\n",
    "print(f'Test RMSE by method2 : {test_rmse_method_2:.4f}')\n",
    "\n",
    "error = (test_rmse_method_2 / average_gas_consumption)\n",
    "print(f'Error (method 2): {error:.2f} %')"
   ]
  },
  {
   "cell_type": "markdown",
   "metadata": {},
   "source": [
    "## More step by predicting original value and see RMSE"
   ]
  },
  {
   "cell_type": "code",
   "execution_count": 8,
   "metadata": {},
   "outputs": [
    {
     "name": "stdout",
     "output_type": "stream",
     "text": [
      "Train RMSE: 16.1149\n",
      "Test RMSE: 13.2847\n",
      "Error : 0.38 %\n"
     ]
    }
   ],
   "source": [
    "# split the data into training and test sets\n",
    "from sklearn.model_selection import train_test_split\n",
    "\n",
    "X = data.drop(['mean_daily_gas_consumption_kWh', 'log_mean_daily_gas_consumption_kWh'], axis=1)\n",
    "y = data['mean_daily_gas_consumption_kWh'] # use the original target variable\n",
    "\n",
    "X_train, X_test, y_train, y_test = train_test_split(X, y, test_size=0.2, random_state=42)\n",
    "\n",
    "# train a Lasso regression model with optimal alpha\n",
    "from sklearn.linear_model import Lasso\n",
    "from sklearn.metrics import mean_squared_error\n",
    "\n",
    "# Train a Lasso regression model\n",
    "model = Lasso(alpha=0.001, random_state=42)\n",
    "model.fit(X_train, y_train)\n",
    "\n",
    "# Make predictions\n",
    "train_preds = model.predict(X_train)\n",
    "test_preds = model.predict(X_test)\n",
    "\n",
    "# Evaluate the model\n",
    "train_rmse = mean_squared_error(y_train, train_preds, squared=False)\n",
    "test_rmse = mean_squared_error(y_test, test_preds, squared=False)\n",
    "\n",
    "print(f'Train RMSE: {train_rmse:.4f}')\n",
    "print(f'Test RMSE: {test_rmse:.4f}')\n",
    "\n",
    "error = (test_rmse / average_gas_consumption)\n",
    "print(f'Error : {error:.2f} %')"
   ]
  },
  {
   "cell_type": "markdown",
   "metadata": {},
   "source": [
    "## Conclusion"
   ]
  },
  {
   "cell_type": "markdown",
   "metadata": {},
   "source": [
    "So the actual RMSE error to mean gas consumption at original scale (kWh) should be 0.38%, rather than 0.04%. \n",
    "\n",
    "so the method 1 underestimates the RMSE and relative errors by a factor of approximately 9 times. (0.38/0.04)"
   ]
  }
 ],
 "metadata": {
  "kernelspec": {
   "display_name": "base",
   "language": "python",
   "name": "python3"
  },
  "language_info": {
   "codemirror_mode": {
    "name": "ipython",
    "version": 3
   },
   "file_extension": ".py",
   "mimetype": "text/x-python",
   "name": "python",
   "nbconvert_exporter": "python",
   "pygments_lexer": "ipython3",
   "version": "3.11.7"
  }
 },
 "nbformat": 4,
 "nbformat_minor": 2
}
